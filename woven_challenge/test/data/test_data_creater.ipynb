{
 "cells": [
  {
   "cell_type": "code",
   "execution_count": 14,
   "metadata": {},
   "outputs": [],
   "source": [
    "import random"
   ]
  },
  {
   "cell_type": "code",
   "execution_count": 15,
   "metadata": {},
   "outputs": [],
   "source": [
    "#file_name = \"test_big_data.txt\"\n",
    "#data_size = 10000\n",
    "file_name = \"test_collapesed_data2.txt\"\n",
    "data_size = 100"
   ]
  },
  {
   "cell_type": "code",
   "execution_count": 16,
   "metadata": {},
   "outputs": [],
   "source": [
    "timestamp = 1426800000\n",
    "\n",
    "with open(file_name, \"w\", encoding=\"utf_8\") as f:\n",
    "    for index in range(data_size):\n",
    "        data = random.randint(0, 8000)\n",
    "        s = \"{:10d} {:4d}\".format(timestamp, data)\n",
    "        timestamp = timestamp + data\n",
    "        s = s + \"\\n\"\n",
    "        f.write(s)"
   ]
  },
  {
   "cell_type": "code",
   "execution_count": null,
   "metadata": {},
   "outputs": [],
   "source": []
  }
 ],
 "metadata": {
  "kernelspec": {
   "display_name": "Python 3",
   "language": "python",
   "name": "python3"
  },
  "language_info": {
   "codemirror_mode": {
    "name": "ipython",
    "version": 3
   },
   "file_extension": ".py",
   "mimetype": "text/x-python",
   "name": "python",
   "nbconvert_exporter": "python",
   "pygments_lexer": "ipython3",
   "version": "3.10.4"
  }
 },
 "nbformat": 4,
 "nbformat_minor": 2
}
